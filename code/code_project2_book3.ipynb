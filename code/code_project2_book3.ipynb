{
 "cells": [
  {
   "cell_type": "markdown",
   "id": "6424e5c4-2b27-4efe-bb19-c7519a119a4e",
   "metadata": {},
   "source": [
    "# Project 2: Ames Housing Data and Kaggle Challenge\n",
    "---\n",
    "Book 1: Data Cleaning & Exploratory Data Analysis<br>\n",
    "Book 2: Preprocessing & Features Engineering<br>\n",
    "**Book 3: ML Modelling, Conclusion & Recommendation**<br>\n",
    "Author: Lee Wan Xian"
   ]
  },
  {
   "cell_type": "markdown",
   "id": "357f1ae7-5131-4a1b-b943-16570f481901",
   "metadata": {},
   "source": [
    "## Contents:\n",
    "- [Model Preparation](#Model-Preparation)\n",
    "- [Model Instantiate & Fitting](#Model-Instantiate-&-Fitting)\n",
    "- [Model Evaluation](#Model-Evaluation)\n",
    "- [Conclusion & Recommendation](#Conclusion-&-Recommendation)"
   ]
  },
  {
   "cell_type": "markdown",
   "id": "2f28feea-8c25-4e56-99e4-4334e9875971",
   "metadata": {},
   "source": [
    "## Python Libraries"
   ]
  },
  {
   "cell_type": "code",
   "execution_count": 1,
   "id": "9d00bae4-1be4-4ff8-96f4-5fb3f4cfe9e5",
   "metadata": {},
   "outputs": [],
   "source": [
    "# Import libraries\n",
    "import pandas as pd\n",
    "import numpy as np\n",
    "import matplotlib.pyplot as plt\n",
    "import seaborn as sns\n",
    "\n",
    "from sklearn.model_selection import train_test_split, cross_val_score, GridSearchCV\n",
    "from sklearn.preprocessing import RobustScaler\n",
    "from sklearn.linear_model import LinearRegression, Lasso, Ridge, ElasticNetCV\n",
    "from sklearn.metrics import r2_score, mean_squared_error"
   ]
  },
  {
   "cell_type": "markdown",
   "id": "97617894-0e59-4de9-9aa0-df95b091dcaf",
   "metadata": {},
   "source": [
    "## Data Import"
   ]
  },
  {
   "cell_type": "code",
   "execution_count": 2,
   "id": "b3688045-66dd-4955-8a67-4ee36d9796e3",
   "metadata": {},
   "outputs": [],
   "source": [
    "# Import data files (Train)\n",
    "dftrainraw = pd.read_csv('../datasets/train.csv')\n",
    "dftrain_clean = pd.read_csv('../output/train_clean.csv')\n",
    "\n",
    "# Import data files (Test)\n",
    "dfrealtestraw = pd.read_csv('../datasets/test.csv')\n",
    "dfrealtest_clean = pd.read_csv('../output/realtest_clean.csv')"
   ]
  },
  {
   "cell_type": "markdown",
   "id": "6c190bd1-7283-488f-9a47-49c33290788d",
   "metadata": {},
   "source": [
    "## Model Preparation"
   ]
  },
  {
   "cell_type": "markdown",
   "id": "c2fb9440-1ee0-42ce-b37a-3f5bfd650415",
   "metadata": {},
   "source": [
    "Define the predictor variables as $X$ & outcome variable (`saleprice`) as $y$ for both train & realtest datasets"
   ]
  },
  {
   "cell_type": "code",
   "execution_count": 3,
   "id": "d0a7a456-f73f-490f-8c5b-085bd1e3d5e6",
   "metadata": {},
   "outputs": [],
   "source": [
    "# create a list of predictor column headers as the features (X-variables)\n",
    "\n",
    "features = ['mas_vnr_area', 'exter_qual', 'bsmt_qual', 'bsmtfin_type_1',\n",
    "       'heating_qc', 'kitchen_qual', 'totrms_abvgrd', 'fireplace_qu',\n",
    "       'age', 'property_area', 'overall_score',\n",
    "       'ms_zoning_A (agr)', 'ms_zoning_C (all)', 'ms_zoning_FV',\n",
    "       'ms_zoning_I (all)', 'ms_zoning_RH', 'ms_zoning_RL', 'ms_zoning_RM',\n",
    "       'neighborhood_Blmngtn', 'neighborhood_Blueste', 'neighborhood_BrDale',\n",
    "       'neighborhood_BrkSide', 'neighborhood_ClearCr', 'neighborhood_CollgCr',\n",
    "       'neighborhood_Crawfor', 'neighborhood_Edwards', 'neighborhood_Gilbert',\n",
    "       'neighborhood_Greens', 'neighborhood_GrnHill', 'neighborhood_IDOTRR',\n",
    "       'neighborhood_Landmrk', 'neighborhood_MeadowV', 'neighborhood_Mitchel',\n",
    "       'neighborhood_NAmes', 'neighborhood_NPkVill', 'neighborhood_NWAmes',\n",
    "       'neighborhood_NoRidge', 'neighborhood_NridgHt', 'neighborhood_OldTown',\n",
    "       'neighborhood_SWISU', 'neighborhood_Sawyer', 'neighborhood_SawyerW',\n",
    "       'neighborhood_Somerst', 'neighborhood_StoneBr', 'neighborhood_Timber',\n",
    "       'neighborhood_Veenker', 'house_style_1.5Fin', 'house_style_1.5Unf',\n",
    "       'house_style_1Story', 'house_style_2.5Fin', 'house_style_2.5Unf',\n",
    "       'house_style_2Story', 'house_style_SFoyer', 'house_style_SLvl',\n",
    "       'foundation_BrkTil', 'foundation_CBlock', 'foundation_PConc',\n",
    "       'foundation_Slab', 'foundation_Stone', 'foundation_Wood',\n",
    "       'ms_subclass_20', 'ms_subclass_30', 'ms_subclass_40', 'ms_subclass_45',\n",
    "       'ms_subclass_50', 'ms_subclass_60', 'ms_subclass_70', 'ms_subclass_75',\n",
    "       'ms_subclass_80', 'ms_subclass_85', 'ms_subclass_90', 'ms_subclass_120',\n",
    "       'ms_subclass_150', 'ms_subclass_160', 'ms_subclass_180',\n",
    "       'ms_subclass_190', 'mas_vnr_type_BrkCmn', 'mas_vnr_type_BrkFace',\n",
    "       'mas_vnr_type_NA', 'mas_vnr_type_None', 'mas_vnr_type_Stone',\n",
    "       'mas_vnr_type_CBlock']"
   ]
  },
  {
   "cell_type": "code",
   "execution_count": 4,
   "id": "b2a2f02c-8774-48ca-9612-6931e9fe61f6",
   "metadata": {},
   "outputs": [],
   "source": [
    "# Set X-variables & y-variable from train_clean df\n",
    "\n",
    "X = dftrain_clean[features]\n",
    "y = dftrain_clean['saleprice']"
   ]
  },
  {
   "cell_type": "code",
   "execution_count": 5,
   "id": "7a15031a-5106-44c4-946c-b60bae23fcfb",
   "metadata": {},
   "outputs": [],
   "source": [
    "# Set X variables for realtest_clean df\n",
    "\n",
    "X_realtest = dfrealtest_clean[features]"
   ]
  },
  {
   "cell_type": "markdown",
   "id": "15a23fa5-4217-4c1a-9885-d79a668b2860",
   "metadata": {},
   "source": [
    "### Train-test Split"
   ]
  },
  {
   "cell_type": "markdown",
   "id": "924a25e2-0aa0-4136-8d57-3ad185c1b286",
   "metadata": {},
   "source": [
    "Perform Train-Test split on $X$ so that we can have 75% of data observations to train the model & the remaining 25% to test the model that has been trained."
   ]
  },
  {
   "cell_type": "code",
   "execution_count": 6,
   "id": "aa084cf7-4569-4a15-ace6-41be28f440e0",
   "metadata": {},
   "outputs": [],
   "source": [
    "X_train, X_test, y_train, y_test = train_test_split(X, y, random_state = 42)"
   ]
  },
  {
   "cell_type": "markdown",
   "id": "dfe3e1f7-99aa-4cf1-8d9e-15497c58f876",
   "metadata": {},
   "source": [
    "### Scaling"
   ]
  },
  {
   "cell_type": "markdown",
   "id": "7ee838d6-c5ff-46cc-a475-720c04f06ab2",
   "metadata": {},
   "source": [
    "Perform Scaling to standardize all values in $X$ to the same scale. We will use `sklearn`'s RobustScaler as there are some outliers in the dataframe that could skew the features' sample mean and variance."
   ]
  },
  {
   "cell_type": "code",
   "execution_count": 7,
   "id": "3989b87c-9731-472c-b7cd-a7b3b3fbf47e",
   "metadata": {},
   "outputs": [],
   "source": [
    "rbs = RobustScaler(quantile_range=(15.0,85.0))\n",
    "X_train = rbs.fit_transform(X_train)\n",
    "X_test = rbs.transform(X_test)"
   ]
  },
  {
   "cell_type": "code",
   "execution_count": 8,
   "id": "246a1f54-0bb8-4325-9feb-ab328f06299a",
   "metadata": {},
   "outputs": [],
   "source": [
    "X_realtest_trf = rbs.transform(X_realtest)"
   ]
  },
  {
   "cell_type": "markdown",
   "id": "f843dbff-d356-4107-9298-cf1afd03e825",
   "metadata": {},
   "source": [
    "## Model Instantiate & Fitting"
   ]
  },
  {
   "cell_type": "markdown",
   "id": "12136036-1b95-48b4-ac3a-0d92cae3e9d8",
   "metadata": {},
   "source": [
    "### Baseline Model"
   ]
  },
  {
   "cell_type": "markdown",
   "id": "003479e3-b90c-4e60-a83b-38a96a69c98b",
   "metadata": {},
   "source": [
    "We will define the baseline model as the linear model that predicts the mean value of y (`saleprice`)."
   ]
  },
  {
   "cell_type": "code",
   "execution_count": 9,
   "id": "a2d2aa43-0332-469f-8197-2f4842d0fbd3",
   "metadata": {},
   "outputs": [],
   "source": [
    "# Setting the baseline model as y_mean\n",
    "y_mean = np.mean(y_train)"
   ]
  },
  {
   "cell_type": "markdown",
   "id": "75c6f01a-04b7-4ed2-81ea-6ffc794a2fc1",
   "metadata": {},
   "source": [
    "### Linear Regression"
   ]
  },
  {
   "cell_type": "code",
   "execution_count": 10,
   "id": "4ab48bca-8cdd-4ca4-b1c5-31534bacad37",
   "metadata": {},
   "outputs": [
    {
     "data": {
      "text/html": [
       "<style>#sk-container-id-1 {color: black;background-color: white;}#sk-container-id-1 pre{padding: 0;}#sk-container-id-1 div.sk-toggleable {background-color: white;}#sk-container-id-1 label.sk-toggleable__label {cursor: pointer;display: block;width: 100%;margin-bottom: 0;padding: 0.3em;box-sizing: border-box;text-align: center;}#sk-container-id-1 label.sk-toggleable__label-arrow:before {content: \"▸\";float: left;margin-right: 0.25em;color: #696969;}#sk-container-id-1 label.sk-toggleable__label-arrow:hover:before {color: black;}#sk-container-id-1 div.sk-estimator:hover label.sk-toggleable__label-arrow:before {color: black;}#sk-container-id-1 div.sk-toggleable__content {max-height: 0;max-width: 0;overflow: hidden;text-align: left;background-color: #f0f8ff;}#sk-container-id-1 div.sk-toggleable__content pre {margin: 0.2em;color: black;border-radius: 0.25em;background-color: #f0f8ff;}#sk-container-id-1 input.sk-toggleable__control:checked~div.sk-toggleable__content {max-height: 200px;max-width: 100%;overflow: auto;}#sk-container-id-1 input.sk-toggleable__control:checked~label.sk-toggleable__label-arrow:before {content: \"▾\";}#sk-container-id-1 div.sk-estimator input.sk-toggleable__control:checked~label.sk-toggleable__label {background-color: #d4ebff;}#sk-container-id-1 div.sk-label input.sk-toggleable__control:checked~label.sk-toggleable__label {background-color: #d4ebff;}#sk-container-id-1 input.sk-hidden--visually {border: 0;clip: rect(1px 1px 1px 1px);clip: rect(1px, 1px, 1px, 1px);height: 1px;margin: -1px;overflow: hidden;padding: 0;position: absolute;width: 1px;}#sk-container-id-1 div.sk-estimator {font-family: monospace;background-color: #f0f8ff;border: 1px dotted black;border-radius: 0.25em;box-sizing: border-box;margin-bottom: 0.5em;}#sk-container-id-1 div.sk-estimator:hover {background-color: #d4ebff;}#sk-container-id-1 div.sk-parallel-item::after {content: \"\";width: 100%;border-bottom: 1px solid gray;flex-grow: 1;}#sk-container-id-1 div.sk-label:hover label.sk-toggleable__label {background-color: #d4ebff;}#sk-container-id-1 div.sk-serial::before {content: \"\";position: absolute;border-left: 1px solid gray;box-sizing: border-box;top: 0;bottom: 0;left: 50%;z-index: 0;}#sk-container-id-1 div.sk-serial {display: flex;flex-direction: column;align-items: center;background-color: white;padding-right: 0.2em;padding-left: 0.2em;position: relative;}#sk-container-id-1 div.sk-item {position: relative;z-index: 1;}#sk-container-id-1 div.sk-parallel {display: flex;align-items: stretch;justify-content: center;background-color: white;position: relative;}#sk-container-id-1 div.sk-item::before, #sk-container-id-1 div.sk-parallel-item::before {content: \"\";position: absolute;border-left: 1px solid gray;box-sizing: border-box;top: 0;bottom: 0;left: 50%;z-index: -1;}#sk-container-id-1 div.sk-parallel-item {display: flex;flex-direction: column;z-index: 1;position: relative;background-color: white;}#sk-container-id-1 div.sk-parallel-item:first-child::after {align-self: flex-end;width: 50%;}#sk-container-id-1 div.sk-parallel-item:last-child::after {align-self: flex-start;width: 50%;}#sk-container-id-1 div.sk-parallel-item:only-child::after {width: 0;}#sk-container-id-1 div.sk-dashed-wrapped {border: 1px dashed gray;margin: 0 0.4em 0.5em 0.4em;box-sizing: border-box;padding-bottom: 0.4em;background-color: white;}#sk-container-id-1 div.sk-label label {font-family: monospace;font-weight: bold;display: inline-block;line-height: 1.2em;}#sk-container-id-1 div.sk-label-container {text-align: center;}#sk-container-id-1 div.sk-container {/* jupyter's `normalize.less` sets `[hidden] { display: none; }` but bootstrap.min.css set `[hidden] { display: none !important; }` so we also need the `!important` here to be able to override the default hidden behavior on the sphinx rendered scikit-learn.org. See: https://github.com/scikit-learn/scikit-learn/issues/21755 */display: inline-block !important;position: relative;}#sk-container-id-1 div.sk-text-repr-fallback {display: none;}</style><div id=\"sk-container-id-1\" class=\"sk-top-container\"><div class=\"sk-text-repr-fallback\"><pre>LinearRegression()</pre><b>In a Jupyter environment, please rerun this cell to show the HTML representation or trust the notebook. <br />On GitHub, the HTML representation is unable to render, please try loading this page with nbviewer.org.</b></div><div class=\"sk-container\" hidden><div class=\"sk-item\"><div class=\"sk-estimator sk-toggleable\"><input class=\"sk-toggleable__control sk-hidden--visually\" id=\"sk-estimator-id-1\" type=\"checkbox\" checked><label for=\"sk-estimator-id-1\" class=\"sk-toggleable__label sk-toggleable__label-arrow\">LinearRegression</label><div class=\"sk-toggleable__content\"><pre>LinearRegression()</pre></div></div></div></div></div>"
      ],
      "text/plain": [
       "LinearRegression()"
      ]
     },
     "execution_count": 10,
     "metadata": {},
     "output_type": "execute_result"
    }
   ],
   "source": [
    "# Instantiate linear reg model\n",
    "lr = LinearRegression()\n",
    "\n",
    "# fit linear reg model to train data\n",
    "lr.fit(X_train, y_train)"
   ]
  },
  {
   "cell_type": "markdown",
   "id": "2b551d3a-f4f0-47e2-ae38-6a0ce960495d",
   "metadata": {},
   "source": [
    "### Ridge Regression"
   ]
  },
  {
   "cell_type": "code",
   "execution_count": 11,
   "id": "c3ece54d-afa5-4633-8cc8-ca38edc52079",
   "metadata": {},
   "outputs": [],
   "source": [
    "# Create hyperparameters dict for Ridge\n",
    "ridge_params = {\n",
    "    \"alpha\": np.logspace(0, 10, 500),\n",
    "    \"fit_intercept\": [True, False],\n",
    "    \"positive\": [True, False],\n",
    "    \"max_iter\": [1000, 15000],\n",
    "}"
   ]
  },
  {
   "cell_type": "code",
   "execution_count": 12,
   "id": "2b41414d-9cc6-402c-a2e1-a258136bf22a",
   "metadata": {
    "tags": []
   },
   "outputs": [
    {
     "name": "stdout",
     "output_type": "stream",
     "text": [
      "Fitting 10 folds for each of 4000 candidates, totalling 40000 fits\n"
     ]
    },
    {
     "data": {
      "text/html": [
       "<style>#sk-container-id-2 {color: black;background-color: white;}#sk-container-id-2 pre{padding: 0;}#sk-container-id-2 div.sk-toggleable {background-color: white;}#sk-container-id-2 label.sk-toggleable__label {cursor: pointer;display: block;width: 100%;margin-bottom: 0;padding: 0.3em;box-sizing: border-box;text-align: center;}#sk-container-id-2 label.sk-toggleable__label-arrow:before {content: \"▸\";float: left;margin-right: 0.25em;color: #696969;}#sk-container-id-2 label.sk-toggleable__label-arrow:hover:before {color: black;}#sk-container-id-2 div.sk-estimator:hover label.sk-toggleable__label-arrow:before {color: black;}#sk-container-id-2 div.sk-toggleable__content {max-height: 0;max-width: 0;overflow: hidden;text-align: left;background-color: #f0f8ff;}#sk-container-id-2 div.sk-toggleable__content pre {margin: 0.2em;color: black;border-radius: 0.25em;background-color: #f0f8ff;}#sk-container-id-2 input.sk-toggleable__control:checked~div.sk-toggleable__content {max-height: 200px;max-width: 100%;overflow: auto;}#sk-container-id-2 input.sk-toggleable__control:checked~label.sk-toggleable__label-arrow:before {content: \"▾\";}#sk-container-id-2 div.sk-estimator input.sk-toggleable__control:checked~label.sk-toggleable__label {background-color: #d4ebff;}#sk-container-id-2 div.sk-label input.sk-toggleable__control:checked~label.sk-toggleable__label {background-color: #d4ebff;}#sk-container-id-2 input.sk-hidden--visually {border: 0;clip: rect(1px 1px 1px 1px);clip: rect(1px, 1px, 1px, 1px);height: 1px;margin: -1px;overflow: hidden;padding: 0;position: absolute;width: 1px;}#sk-container-id-2 div.sk-estimator {font-family: monospace;background-color: #f0f8ff;border: 1px dotted black;border-radius: 0.25em;box-sizing: border-box;margin-bottom: 0.5em;}#sk-container-id-2 div.sk-estimator:hover {background-color: #d4ebff;}#sk-container-id-2 div.sk-parallel-item::after {content: \"\";width: 100%;border-bottom: 1px solid gray;flex-grow: 1;}#sk-container-id-2 div.sk-label:hover label.sk-toggleable__label {background-color: #d4ebff;}#sk-container-id-2 div.sk-serial::before {content: \"\";position: absolute;border-left: 1px solid gray;box-sizing: border-box;top: 0;bottom: 0;left: 50%;z-index: 0;}#sk-container-id-2 div.sk-serial {display: flex;flex-direction: column;align-items: center;background-color: white;padding-right: 0.2em;padding-left: 0.2em;position: relative;}#sk-container-id-2 div.sk-item {position: relative;z-index: 1;}#sk-container-id-2 div.sk-parallel {display: flex;align-items: stretch;justify-content: center;background-color: white;position: relative;}#sk-container-id-2 div.sk-item::before, #sk-container-id-2 div.sk-parallel-item::before {content: \"\";position: absolute;border-left: 1px solid gray;box-sizing: border-box;top: 0;bottom: 0;left: 50%;z-index: -1;}#sk-container-id-2 div.sk-parallel-item {display: flex;flex-direction: column;z-index: 1;position: relative;background-color: white;}#sk-container-id-2 div.sk-parallel-item:first-child::after {align-self: flex-end;width: 50%;}#sk-container-id-2 div.sk-parallel-item:last-child::after {align-self: flex-start;width: 50%;}#sk-container-id-2 div.sk-parallel-item:only-child::after {width: 0;}#sk-container-id-2 div.sk-dashed-wrapped {border: 1px dashed gray;margin: 0 0.4em 0.5em 0.4em;box-sizing: border-box;padding-bottom: 0.4em;background-color: white;}#sk-container-id-2 div.sk-label label {font-family: monospace;font-weight: bold;display: inline-block;line-height: 1.2em;}#sk-container-id-2 div.sk-label-container {text-align: center;}#sk-container-id-2 div.sk-container {/* jupyter's `normalize.less` sets `[hidden] { display: none; }` but bootstrap.min.css set `[hidden] { display: none !important; }` so we also need the `!important` here to be able to override the default hidden behavior on the sphinx rendered scikit-learn.org. See: https://github.com/scikit-learn/scikit-learn/issues/21755 */display: inline-block !important;position: relative;}#sk-container-id-2 div.sk-text-repr-fallback {display: none;}</style><div id=\"sk-container-id-2\" class=\"sk-top-container\"><div class=\"sk-text-repr-fallback\"><pre>GridSearchCV(cv=10, estimator=Ridge(), n_jobs=-1,\n",
       "             param_grid={&#x27;alpha&#x27;: array([1.00000000e+00, 1.04722519e+00, 1.09668060e+00, 1.14847155e+00,\n",
       "       1.20270833e+00, 1.25950646e+00, 1.31898690e+00, 1.38127630e+00,\n",
       "       1.44650734e+00, 1.51481892e+00, 1.58635653e+00, 1.66127252e+00,\n",
       "       1.73972643e+00, 1.82188534e+00, 1.90792422e+00, 1.99802631e+00,\n",
       "       2.09238348e+00, 2.19119669e+00, 2.2946...\n",
       "       4.16139055e+09, 4.35791301e+09, 4.56371628e+09, 4.77923865e+09,\n",
       "       5.00493910e+09, 5.24129830e+09, 5.48881961e+09, 5.74803016e+09,\n",
       "       6.01948197e+09, 6.30375315e+09, 6.60144909e+09, 6.91320378e+09,\n",
       "       7.23968114e+09, 7.58157646e+09, 7.93961785e+09, 8.31456781e+09,\n",
       "       8.70722485e+09, 9.11842520e+09, 9.54904456e+09, 1.00000000e+10]),\n",
       "                         &#x27;fit_intercept&#x27;: [True, False],\n",
       "                         &#x27;max_iter&#x27;: [1000, 15000], &#x27;positive&#x27;: [True, False]},\n",
       "             verbose=1)</pre><b>In a Jupyter environment, please rerun this cell to show the HTML representation or trust the notebook. <br />On GitHub, the HTML representation is unable to render, please try loading this page with nbviewer.org.</b></div><div class=\"sk-container\" hidden><div class=\"sk-item sk-dashed-wrapped\"><div class=\"sk-label-container\"><div class=\"sk-label sk-toggleable\"><input class=\"sk-toggleable__control sk-hidden--visually\" id=\"sk-estimator-id-2\" type=\"checkbox\" ><label for=\"sk-estimator-id-2\" class=\"sk-toggleable__label sk-toggleable__label-arrow\">GridSearchCV</label><div class=\"sk-toggleable__content\"><pre>GridSearchCV(cv=10, estimator=Ridge(), n_jobs=-1,\n",
       "             param_grid={&#x27;alpha&#x27;: array([1.00000000e+00, 1.04722519e+00, 1.09668060e+00, 1.14847155e+00,\n",
       "       1.20270833e+00, 1.25950646e+00, 1.31898690e+00, 1.38127630e+00,\n",
       "       1.44650734e+00, 1.51481892e+00, 1.58635653e+00, 1.66127252e+00,\n",
       "       1.73972643e+00, 1.82188534e+00, 1.90792422e+00, 1.99802631e+00,\n",
       "       2.09238348e+00, 2.19119669e+00, 2.2946...\n",
       "       4.16139055e+09, 4.35791301e+09, 4.56371628e+09, 4.77923865e+09,\n",
       "       5.00493910e+09, 5.24129830e+09, 5.48881961e+09, 5.74803016e+09,\n",
       "       6.01948197e+09, 6.30375315e+09, 6.60144909e+09, 6.91320378e+09,\n",
       "       7.23968114e+09, 7.58157646e+09, 7.93961785e+09, 8.31456781e+09,\n",
       "       8.70722485e+09, 9.11842520e+09, 9.54904456e+09, 1.00000000e+10]),\n",
       "                         &#x27;fit_intercept&#x27;: [True, False],\n",
       "                         &#x27;max_iter&#x27;: [1000, 15000], &#x27;positive&#x27;: [True, False]},\n",
       "             verbose=1)</pre></div></div></div><div class=\"sk-parallel\"><div class=\"sk-parallel-item\"><div class=\"sk-item\"><div class=\"sk-label-container\"><div class=\"sk-label sk-toggleable\"><input class=\"sk-toggleable__control sk-hidden--visually\" id=\"sk-estimator-id-3\" type=\"checkbox\" ><label for=\"sk-estimator-id-3\" class=\"sk-toggleable__label sk-toggleable__label-arrow\">estimator: Ridge</label><div class=\"sk-toggleable__content\"><pre>Ridge()</pre></div></div></div><div class=\"sk-serial\"><div class=\"sk-item\"><div class=\"sk-estimator sk-toggleable\"><input class=\"sk-toggleable__control sk-hidden--visually\" id=\"sk-estimator-id-4\" type=\"checkbox\" ><label for=\"sk-estimator-id-4\" class=\"sk-toggleable__label sk-toggleable__label-arrow\">Ridge</label><div class=\"sk-toggleable__content\"><pre>Ridge()</pre></div></div></div></div></div></div></div></div></div></div>"
      ],
      "text/plain": [
       "GridSearchCV(cv=10, estimator=Ridge(), n_jobs=-1,\n",
       "             param_grid={'alpha': array([1.00000000e+00, 1.04722519e+00, 1.09668060e+00, 1.14847155e+00,\n",
       "       1.20270833e+00, 1.25950646e+00, 1.31898690e+00, 1.38127630e+00,\n",
       "       1.44650734e+00, 1.51481892e+00, 1.58635653e+00, 1.66127252e+00,\n",
       "       1.73972643e+00, 1.82188534e+00, 1.90792422e+00, 1.99802631e+00,\n",
       "       2.09238348e+00, 2.19119669e+00, 2.2946...\n",
       "       4.16139055e+09, 4.35791301e+09, 4.56371628e+09, 4.77923865e+09,\n",
       "       5.00493910e+09, 5.24129830e+09, 5.48881961e+09, 5.74803016e+09,\n",
       "       6.01948197e+09, 6.30375315e+09, 6.60144909e+09, 6.91320378e+09,\n",
       "       7.23968114e+09, 7.58157646e+09, 7.93961785e+09, 8.31456781e+09,\n",
       "       8.70722485e+09, 9.11842520e+09, 9.54904456e+09, 1.00000000e+10]),\n",
       "                         'fit_intercept': [True, False],\n",
       "                         'max_iter': [1000, 15000], 'positive': [True, False]},\n",
       "             verbose=1)"
      ]
     },
     "execution_count": 12,
     "metadata": {},
     "output_type": "execute_result"
    }
   ],
   "source": [
    "# Instantiate Ridge model\n",
    "ridge_grid = GridSearchCV(Ridge(),\n",
    "                          ridge_params,\n",
    "                          n_jobs=-1,\n",
    "                          cv=10,\n",
    "                          verbose=1\n",
    "                         )\n",
    "\n",
    "# fit Ridge model to train data\n",
    "ridge_grid.fit(X_train, y_train)"
   ]
  },
  {
   "cell_type": "markdown",
   "id": "2bf5c68b-731d-4451-81b7-f656873831bf",
   "metadata": {},
   "source": [
    "### Lasso Regression"
   ]
  },
  {
   "cell_type": "code",
   "execution_count": 13,
   "id": "41716009-7f8c-4b30-8697-26ef3710349c",
   "metadata": {},
   "outputs": [],
   "source": [
    "# Create hyperparameters dict for Lasso\n",
    "lasso_params = {\n",
    "    \"alpha\": np.logspace(0, 10, 500),\n",
    "    \"fit_intercept\": [True, False],\n",
    "    \"positive\": [True, False],\n",
    "    \"max_iter\": [1000, 15000],\n",
    "}"
   ]
  },
  {
   "cell_type": "code",
   "execution_count": 14,
   "id": "56a782a4-bf9f-45a6-a865-b7cd5d7b5683",
   "metadata": {},
   "outputs": [
    {
     "name": "stdout",
     "output_type": "stream",
     "text": [
      "Fitting 10 folds for each of 4000 candidates, totalling 40000 fits\n"
     ]
    },
    {
     "data": {
      "text/html": [
       "<style>#sk-container-id-3 {color: black;background-color: white;}#sk-container-id-3 pre{padding: 0;}#sk-container-id-3 div.sk-toggleable {background-color: white;}#sk-container-id-3 label.sk-toggleable__label {cursor: pointer;display: block;width: 100%;margin-bottom: 0;padding: 0.3em;box-sizing: border-box;text-align: center;}#sk-container-id-3 label.sk-toggleable__label-arrow:before {content: \"▸\";float: left;margin-right: 0.25em;color: #696969;}#sk-container-id-3 label.sk-toggleable__label-arrow:hover:before {color: black;}#sk-container-id-3 div.sk-estimator:hover label.sk-toggleable__label-arrow:before {color: black;}#sk-container-id-3 div.sk-toggleable__content {max-height: 0;max-width: 0;overflow: hidden;text-align: left;background-color: #f0f8ff;}#sk-container-id-3 div.sk-toggleable__content pre {margin: 0.2em;color: black;border-radius: 0.25em;background-color: #f0f8ff;}#sk-container-id-3 input.sk-toggleable__control:checked~div.sk-toggleable__content {max-height: 200px;max-width: 100%;overflow: auto;}#sk-container-id-3 input.sk-toggleable__control:checked~label.sk-toggleable__label-arrow:before {content: \"▾\";}#sk-container-id-3 div.sk-estimator input.sk-toggleable__control:checked~label.sk-toggleable__label {background-color: #d4ebff;}#sk-container-id-3 div.sk-label input.sk-toggleable__control:checked~label.sk-toggleable__label {background-color: #d4ebff;}#sk-container-id-3 input.sk-hidden--visually {border: 0;clip: rect(1px 1px 1px 1px);clip: rect(1px, 1px, 1px, 1px);height: 1px;margin: -1px;overflow: hidden;padding: 0;position: absolute;width: 1px;}#sk-container-id-3 div.sk-estimator {font-family: monospace;background-color: #f0f8ff;border: 1px dotted black;border-radius: 0.25em;box-sizing: border-box;margin-bottom: 0.5em;}#sk-container-id-3 div.sk-estimator:hover {background-color: #d4ebff;}#sk-container-id-3 div.sk-parallel-item::after {content: \"\";width: 100%;border-bottom: 1px solid gray;flex-grow: 1;}#sk-container-id-3 div.sk-label:hover label.sk-toggleable__label {background-color: #d4ebff;}#sk-container-id-3 div.sk-serial::before {content: \"\";position: absolute;border-left: 1px solid gray;box-sizing: border-box;top: 0;bottom: 0;left: 50%;z-index: 0;}#sk-container-id-3 div.sk-serial {display: flex;flex-direction: column;align-items: center;background-color: white;padding-right: 0.2em;padding-left: 0.2em;position: relative;}#sk-container-id-3 div.sk-item {position: relative;z-index: 1;}#sk-container-id-3 div.sk-parallel {display: flex;align-items: stretch;justify-content: center;background-color: white;position: relative;}#sk-container-id-3 div.sk-item::before, #sk-container-id-3 div.sk-parallel-item::before {content: \"\";position: absolute;border-left: 1px solid gray;box-sizing: border-box;top: 0;bottom: 0;left: 50%;z-index: -1;}#sk-container-id-3 div.sk-parallel-item {display: flex;flex-direction: column;z-index: 1;position: relative;background-color: white;}#sk-container-id-3 div.sk-parallel-item:first-child::after {align-self: flex-end;width: 50%;}#sk-container-id-3 div.sk-parallel-item:last-child::after {align-self: flex-start;width: 50%;}#sk-container-id-3 div.sk-parallel-item:only-child::after {width: 0;}#sk-container-id-3 div.sk-dashed-wrapped {border: 1px dashed gray;margin: 0 0.4em 0.5em 0.4em;box-sizing: border-box;padding-bottom: 0.4em;background-color: white;}#sk-container-id-3 div.sk-label label {font-family: monospace;font-weight: bold;display: inline-block;line-height: 1.2em;}#sk-container-id-3 div.sk-label-container {text-align: center;}#sk-container-id-3 div.sk-container {/* jupyter's `normalize.less` sets `[hidden] { display: none; }` but bootstrap.min.css set `[hidden] { display: none !important; }` so we also need the `!important` here to be able to override the default hidden behavior on the sphinx rendered scikit-learn.org. See: https://github.com/scikit-learn/scikit-learn/issues/21755 */display: inline-block !important;position: relative;}#sk-container-id-3 div.sk-text-repr-fallback {display: none;}</style><div id=\"sk-container-id-3\" class=\"sk-top-container\"><div class=\"sk-text-repr-fallback\"><pre>GridSearchCV(cv=10, estimator=Lasso(), n_jobs=-1,\n",
       "             param_grid={&#x27;alpha&#x27;: array([1.00000000e+00, 1.04722519e+00, 1.09668060e+00, 1.14847155e+00,\n",
       "       1.20270833e+00, 1.25950646e+00, 1.31898690e+00, 1.38127630e+00,\n",
       "       1.44650734e+00, 1.51481892e+00, 1.58635653e+00, 1.66127252e+00,\n",
       "       1.73972643e+00, 1.82188534e+00, 1.90792422e+00, 1.99802631e+00,\n",
       "       2.09238348e+00, 2.19119669e+00, 2.2946...\n",
       "       4.16139055e+09, 4.35791301e+09, 4.56371628e+09, 4.77923865e+09,\n",
       "       5.00493910e+09, 5.24129830e+09, 5.48881961e+09, 5.74803016e+09,\n",
       "       6.01948197e+09, 6.30375315e+09, 6.60144909e+09, 6.91320378e+09,\n",
       "       7.23968114e+09, 7.58157646e+09, 7.93961785e+09, 8.31456781e+09,\n",
       "       8.70722485e+09, 9.11842520e+09, 9.54904456e+09, 1.00000000e+10]),\n",
       "                         &#x27;fit_intercept&#x27;: [True, False],\n",
       "                         &#x27;max_iter&#x27;: [1000, 15000], &#x27;positive&#x27;: [True, False]},\n",
       "             verbose=1)</pre><b>In a Jupyter environment, please rerun this cell to show the HTML representation or trust the notebook. <br />On GitHub, the HTML representation is unable to render, please try loading this page with nbviewer.org.</b></div><div class=\"sk-container\" hidden><div class=\"sk-item sk-dashed-wrapped\"><div class=\"sk-label-container\"><div class=\"sk-label sk-toggleable\"><input class=\"sk-toggleable__control sk-hidden--visually\" id=\"sk-estimator-id-5\" type=\"checkbox\" ><label for=\"sk-estimator-id-5\" class=\"sk-toggleable__label sk-toggleable__label-arrow\">GridSearchCV</label><div class=\"sk-toggleable__content\"><pre>GridSearchCV(cv=10, estimator=Lasso(), n_jobs=-1,\n",
       "             param_grid={&#x27;alpha&#x27;: array([1.00000000e+00, 1.04722519e+00, 1.09668060e+00, 1.14847155e+00,\n",
       "       1.20270833e+00, 1.25950646e+00, 1.31898690e+00, 1.38127630e+00,\n",
       "       1.44650734e+00, 1.51481892e+00, 1.58635653e+00, 1.66127252e+00,\n",
       "       1.73972643e+00, 1.82188534e+00, 1.90792422e+00, 1.99802631e+00,\n",
       "       2.09238348e+00, 2.19119669e+00, 2.2946...\n",
       "       4.16139055e+09, 4.35791301e+09, 4.56371628e+09, 4.77923865e+09,\n",
       "       5.00493910e+09, 5.24129830e+09, 5.48881961e+09, 5.74803016e+09,\n",
       "       6.01948197e+09, 6.30375315e+09, 6.60144909e+09, 6.91320378e+09,\n",
       "       7.23968114e+09, 7.58157646e+09, 7.93961785e+09, 8.31456781e+09,\n",
       "       8.70722485e+09, 9.11842520e+09, 9.54904456e+09, 1.00000000e+10]),\n",
       "                         &#x27;fit_intercept&#x27;: [True, False],\n",
       "                         &#x27;max_iter&#x27;: [1000, 15000], &#x27;positive&#x27;: [True, False]},\n",
       "             verbose=1)</pre></div></div></div><div class=\"sk-parallel\"><div class=\"sk-parallel-item\"><div class=\"sk-item\"><div class=\"sk-label-container\"><div class=\"sk-label sk-toggleable\"><input class=\"sk-toggleable__control sk-hidden--visually\" id=\"sk-estimator-id-6\" type=\"checkbox\" ><label for=\"sk-estimator-id-6\" class=\"sk-toggleable__label sk-toggleable__label-arrow\">estimator: Lasso</label><div class=\"sk-toggleable__content\"><pre>Lasso()</pre></div></div></div><div class=\"sk-serial\"><div class=\"sk-item\"><div class=\"sk-estimator sk-toggleable\"><input class=\"sk-toggleable__control sk-hidden--visually\" id=\"sk-estimator-id-7\" type=\"checkbox\" ><label for=\"sk-estimator-id-7\" class=\"sk-toggleable__label sk-toggleable__label-arrow\">Lasso</label><div class=\"sk-toggleable__content\"><pre>Lasso()</pre></div></div></div></div></div></div></div></div></div></div>"
      ],
      "text/plain": [
       "GridSearchCV(cv=10, estimator=Lasso(), n_jobs=-1,\n",
       "             param_grid={'alpha': array([1.00000000e+00, 1.04722519e+00, 1.09668060e+00, 1.14847155e+00,\n",
       "       1.20270833e+00, 1.25950646e+00, 1.31898690e+00, 1.38127630e+00,\n",
       "       1.44650734e+00, 1.51481892e+00, 1.58635653e+00, 1.66127252e+00,\n",
       "       1.73972643e+00, 1.82188534e+00, 1.90792422e+00, 1.99802631e+00,\n",
       "       2.09238348e+00, 2.19119669e+00, 2.2946...\n",
       "       4.16139055e+09, 4.35791301e+09, 4.56371628e+09, 4.77923865e+09,\n",
       "       5.00493910e+09, 5.24129830e+09, 5.48881961e+09, 5.74803016e+09,\n",
       "       6.01948197e+09, 6.30375315e+09, 6.60144909e+09, 6.91320378e+09,\n",
       "       7.23968114e+09, 7.58157646e+09, 7.93961785e+09, 8.31456781e+09,\n",
       "       8.70722485e+09, 9.11842520e+09, 9.54904456e+09, 1.00000000e+10]),\n",
       "                         'fit_intercept': [True, False],\n",
       "                         'max_iter': [1000, 15000], 'positive': [True, False]},\n",
       "             verbose=1)"
      ]
     },
     "execution_count": 14,
     "metadata": {},
     "output_type": "execute_result"
    }
   ],
   "source": [
    "# Instantiate Lasso model\n",
    "lasso_grid = GridSearchCV(Lasso(),\n",
    "                          lasso_params,\n",
    "                          n_jobs=-1,\n",
    "                          cv=10,\n",
    "                          verbose=1\n",
    "                         )\n",
    "\n",
    "# fit Lasso model to train data\n",
    "lasso_grid.fit(X_train, y_train)"
   ]
  },
  {
   "cell_type": "markdown",
   "id": "d1b8e57c-f676-4b7f-8c9e-ef900846037e",
   "metadata": {},
   "source": [
    "### ElasticNet Regression"
   ]
  },
  {
   "cell_type": "code",
   "execution_count": 15,
   "id": "7bf49a8e-434a-48af-b8a4-2a74520d20a7",
   "metadata": {
    "tags": []
   },
   "outputs": [
    {
     "data": {
      "text/html": [
       "<style>#sk-container-id-4 {color: black;background-color: white;}#sk-container-id-4 pre{padding: 0;}#sk-container-id-4 div.sk-toggleable {background-color: white;}#sk-container-id-4 label.sk-toggleable__label {cursor: pointer;display: block;width: 100%;margin-bottom: 0;padding: 0.3em;box-sizing: border-box;text-align: center;}#sk-container-id-4 label.sk-toggleable__label-arrow:before {content: \"▸\";float: left;margin-right: 0.25em;color: #696969;}#sk-container-id-4 label.sk-toggleable__label-arrow:hover:before {color: black;}#sk-container-id-4 div.sk-estimator:hover label.sk-toggleable__label-arrow:before {color: black;}#sk-container-id-4 div.sk-toggleable__content {max-height: 0;max-width: 0;overflow: hidden;text-align: left;background-color: #f0f8ff;}#sk-container-id-4 div.sk-toggleable__content pre {margin: 0.2em;color: black;border-radius: 0.25em;background-color: #f0f8ff;}#sk-container-id-4 input.sk-toggleable__control:checked~div.sk-toggleable__content {max-height: 200px;max-width: 100%;overflow: auto;}#sk-container-id-4 input.sk-toggleable__control:checked~label.sk-toggleable__label-arrow:before {content: \"▾\";}#sk-container-id-4 div.sk-estimator input.sk-toggleable__control:checked~label.sk-toggleable__label {background-color: #d4ebff;}#sk-container-id-4 div.sk-label input.sk-toggleable__control:checked~label.sk-toggleable__label {background-color: #d4ebff;}#sk-container-id-4 input.sk-hidden--visually {border: 0;clip: rect(1px 1px 1px 1px);clip: rect(1px, 1px, 1px, 1px);height: 1px;margin: -1px;overflow: hidden;padding: 0;position: absolute;width: 1px;}#sk-container-id-4 div.sk-estimator {font-family: monospace;background-color: #f0f8ff;border: 1px dotted black;border-radius: 0.25em;box-sizing: border-box;margin-bottom: 0.5em;}#sk-container-id-4 div.sk-estimator:hover {background-color: #d4ebff;}#sk-container-id-4 div.sk-parallel-item::after {content: \"\";width: 100%;border-bottom: 1px solid gray;flex-grow: 1;}#sk-container-id-4 div.sk-label:hover label.sk-toggleable__label {background-color: #d4ebff;}#sk-container-id-4 div.sk-serial::before {content: \"\";position: absolute;border-left: 1px solid gray;box-sizing: border-box;top: 0;bottom: 0;left: 50%;z-index: 0;}#sk-container-id-4 div.sk-serial {display: flex;flex-direction: column;align-items: center;background-color: white;padding-right: 0.2em;padding-left: 0.2em;position: relative;}#sk-container-id-4 div.sk-item {position: relative;z-index: 1;}#sk-container-id-4 div.sk-parallel {display: flex;align-items: stretch;justify-content: center;background-color: white;position: relative;}#sk-container-id-4 div.sk-item::before, #sk-container-id-4 div.sk-parallel-item::before {content: \"\";position: absolute;border-left: 1px solid gray;box-sizing: border-box;top: 0;bottom: 0;left: 50%;z-index: -1;}#sk-container-id-4 div.sk-parallel-item {display: flex;flex-direction: column;z-index: 1;position: relative;background-color: white;}#sk-container-id-4 div.sk-parallel-item:first-child::after {align-self: flex-end;width: 50%;}#sk-container-id-4 div.sk-parallel-item:last-child::after {align-self: flex-start;width: 50%;}#sk-container-id-4 div.sk-parallel-item:only-child::after {width: 0;}#sk-container-id-4 div.sk-dashed-wrapped {border: 1px dashed gray;margin: 0 0.4em 0.5em 0.4em;box-sizing: border-box;padding-bottom: 0.4em;background-color: white;}#sk-container-id-4 div.sk-label label {font-family: monospace;font-weight: bold;display: inline-block;line-height: 1.2em;}#sk-container-id-4 div.sk-label-container {text-align: center;}#sk-container-id-4 div.sk-container {/* jupyter's `normalize.less` sets `[hidden] { display: none; }` but bootstrap.min.css set `[hidden] { display: none !important; }` so we also need the `!important` here to be able to override the default hidden behavior on the sphinx rendered scikit-learn.org. See: https://github.com/scikit-learn/scikit-learn/issues/21755 */display: inline-block !important;position: relative;}#sk-container-id-4 div.sk-text-repr-fallback {display: none;}</style><div id=\"sk-container-id-4\" class=\"sk-top-container\"><div class=\"sk-text-repr-fallback\"><pre>ElasticNetCV(cv=10,\n",
       "             l1_ratio=[0.1, 0.5, 0.7, 0.75, 0.8, 0.85, 0.9, 0.95, 0.99, 1],\n",
       "             max_iter=15000, n_alphas=500)</pre><b>In a Jupyter environment, please rerun this cell to show the HTML representation or trust the notebook. <br />On GitHub, the HTML representation is unable to render, please try loading this page with nbviewer.org.</b></div><div class=\"sk-container\" hidden><div class=\"sk-item\"><div class=\"sk-estimator sk-toggleable\"><input class=\"sk-toggleable__control sk-hidden--visually\" id=\"sk-estimator-id-8\" type=\"checkbox\" checked><label for=\"sk-estimator-id-8\" class=\"sk-toggleable__label sk-toggleable__label-arrow\">ElasticNetCV</label><div class=\"sk-toggleable__content\"><pre>ElasticNetCV(cv=10,\n",
       "             l1_ratio=[0.1, 0.5, 0.7, 0.75, 0.8, 0.85, 0.9, 0.95, 0.99, 1],\n",
       "             max_iter=15000, n_alphas=500)</pre></div></div></div></div></div>"
      ],
      "text/plain": [
       "ElasticNetCV(cv=10,\n",
       "             l1_ratio=[0.1, 0.5, 0.7, 0.75, 0.8, 0.85, 0.9, 0.95, 0.99, 1],\n",
       "             max_iter=15000, n_alphas=500)"
      ]
     },
     "execution_count": 15,
     "metadata": {},
     "output_type": "execute_result"
    }
   ],
   "source": [
    "# Instantiate ElasticNetCV model\n",
    "elastic = ElasticNetCV(l1_ratio = [.1, .5, .7, .75, .8, .85, .9, .95, .99, 1],\n",
    "                       n_alphas = 500,\n",
    "                       max_iter = 15000,\n",
    "                       cv = 10\n",
    "                      )\n",
    "\n",
    "# fit ElasticNetCV model to train data\n",
    "elastic.fit(X_train, y_train)"
   ]
  },
  {
   "cell_type": "markdown",
   "id": "8c99aafa-c103-438d-9238-ac8592904384",
   "metadata": {},
   "source": [
    "## Model Evaluation"
   ]
  },
  {
   "cell_type": "markdown",
   "id": "2ffeeb66-2c2e-4e20-81d5-9eb03aaa15bf",
   "metadata": {},
   "source": [
    "### Model Metrics"
   ]
  },
  {
   "cell_type": "markdown",
   "id": "2dca548d-2213-41ed-be1a-d06d1452c645",
   "metadata": {},
   "source": [
    "**Baseline - y_mean**"
   ]
  },
  {
   "cell_type": "code",
   "execution_count": 16,
   "id": "51131191-d0f8-4e1f-b663-b79ab9d8ba36",
   "metadata": {},
   "outputs": [],
   "source": [
    "# Create y_predictions from baseline model using a function\n",
    "def y_baseline_pred(array):\n",
    "    \n",
    "    y_pred_base = []\n",
    "    for num in array:\n",
    "        y_pred_base.append(y_mean)\n",
    " \n",
    "    return y_pred_base "
   ]
  },
  {
   "cell_type": "code",
   "execution_count": 17,
   "id": "4f70b9d8-023c-432c-b65c-cde12d04a846",
   "metadata": {},
   "outputs": [
    {
     "name": "stdout",
     "output_type": "stream",
     "text": [
      "R_squared score is -0.00023828527031999336\n"
     ]
    }
   ],
   "source": [
    "# Show the R square score for baseline model\n",
    "print(f'R_squared score is {r2_score(y_test, y_baseline_pred(y_test))}')"
   ]
  },
  {
   "cell_type": "code",
   "execution_count": 18,
   "id": "e6ef31f6-7fc0-4780-b15d-73d125d2f4e5",
   "metadata": {},
   "outputs": [
    {
     "name": "stdout",
     "output_type": "stream",
     "text": [
      "RMSE is 79061.81923093161\n"
     ]
    }
   ],
   "source": [
    "# Show the RMSE for baseline model\n",
    "print(f'RMSE is {mean_squared_error(y_test, y_baseline_pred(y_test), squared=False)}')"
   ]
  },
  {
   "cell_type": "markdown",
   "id": "f0b476f4-dc7c-429a-819c-8b90fda0b638",
   "metadata": {},
   "source": [
    "**Linear Regression**"
   ]
  },
  {
   "cell_type": "code",
   "execution_count": 19,
   "id": "18c91655-2805-423e-909a-bee2997b58f0",
   "metadata": {},
   "outputs": [
    {
     "data": {
      "text/plain": [
       "-2.447159268420406e+18"
      ]
     },
     "execution_count": 19,
     "metadata": {},
     "output_type": "execute_result"
    }
   ],
   "source": [
    "# R square score on train data\n",
    "cross_val_score(lr, X_train, y_train, cv=10).mean()"
   ]
  },
  {
   "cell_type": "code",
   "execution_count": 20,
   "id": "6c6399c9-b7c9-4e30-bf65-b2ae7b64bf68",
   "metadata": {},
   "outputs": [
    {
     "data": {
      "text/plain": [
       "-2.2705010160622044e+22"
      ]
     },
     "execution_count": 20,
     "metadata": {},
     "output_type": "execute_result"
    }
   ],
   "source": [
    "# R square score on test data\n",
    "cross_val_score(lr, X_test, y_test, cv=10).mean()"
   ]
  },
  {
   "cell_type": "code",
   "execution_count": 21,
   "id": "2f95bc7b-1fb0-4f2a-aa28-908463273727",
   "metadata": {},
   "outputs": [
    {
     "data": {
      "text/plain": [
       "339946158182472.56"
      ]
     },
     "execution_count": 21,
     "metadata": {},
     "output_type": "execute_result"
    }
   ],
   "source": [
    "# Show the RMSE for Linear regression\n",
    "y_pred_lr = lr.predict(X_test) # generate y prediction\n",
    "mean_squared_error(y_test, y_pred_lr, squared=False) # calculate RMSE"
   ]
  },
  {
   "cell_type": "markdown",
   "id": "6b999b1e-282f-472b-a03b-13b5e9441932",
   "metadata": {},
   "source": [
    "**Ridge Regression**"
   ]
  },
  {
   "cell_type": "code",
   "execution_count": 22,
   "id": "636a0792-3c56-43b0-88f6-d816f68194f6",
   "metadata": {},
   "outputs": [
    {
     "data": {
      "text/plain": [
       "0.8529911855619441"
      ]
     },
     "execution_count": 22,
     "metadata": {},
     "output_type": "execute_result"
    }
   ],
   "source": [
    "# R square score on train data\n",
    "ridge_grid.score(X_train, y_train)"
   ]
  },
  {
   "cell_type": "code",
   "execution_count": 23,
   "id": "fed1a932-812e-480d-98bb-8d30dcba68ec",
   "metadata": {},
   "outputs": [
    {
     "data": {
      "text/plain": [
       "0.8731315294256781"
      ]
     },
     "execution_count": 23,
     "metadata": {},
     "output_type": "execute_result"
    }
   ],
   "source": [
    "# R square score on test data\n",
    "ridge_grid.score(X_test, y_test)"
   ]
  },
  {
   "cell_type": "code",
   "execution_count": 24,
   "id": "6c73b944-cc7d-4b13-af49-027bc2482687",
   "metadata": {},
   "outputs": [
    {
     "data": {
      "text/plain": [
       "28157.359043985216"
      ]
     },
     "execution_count": 24,
     "metadata": {},
     "output_type": "execute_result"
    }
   ],
   "source": [
    "# Show the RMSE for ridge regression\n",
    "y_pred_ridge = ridge_grid.predict(X_test) # generate y prediction\n",
    "mean_squared_error(y_test, y_pred_ridge, squared=False) # calculate RMSE"
   ]
  },
  {
   "cell_type": "markdown",
   "id": "b6e346ac-e5a3-4230-8e02-66e37de4740f",
   "metadata": {},
   "source": [
    "**Lasso Regression**"
   ]
  },
  {
   "cell_type": "code",
   "execution_count": 25,
   "id": "797f464a-39d5-48f7-9ce9-ce6e9ced1c89",
   "metadata": {},
   "outputs": [
    {
     "data": {
      "text/plain": [
       "0.854653889445648"
      ]
     },
     "execution_count": 25,
     "metadata": {},
     "output_type": "execute_result"
    }
   ],
   "source": [
    "# R square score on train data\n",
    "lasso_grid.score(X_train, y_train)"
   ]
  },
  {
   "cell_type": "code",
   "execution_count": 26,
   "id": "480defe8-8e92-403e-84ab-329770163751",
   "metadata": {},
   "outputs": [
    {
     "data": {
      "text/plain": [
       "0.871862790774903"
      ]
     },
     "execution_count": 26,
     "metadata": {},
     "output_type": "execute_result"
    }
   ],
   "source": [
    "# R square score on test data\n",
    "lasso_grid.score(X_test, y_test)"
   ]
  },
  {
   "cell_type": "code",
   "execution_count": 27,
   "id": "9de636f1-8f07-45b6-b840-b8f1d1702ca1",
   "metadata": {},
   "outputs": [
    {
     "data": {
      "text/plain": [
       "28297.801577736373"
      ]
     },
     "execution_count": 27,
     "metadata": {},
     "output_type": "execute_result"
    }
   ],
   "source": [
    "# Show the RMSE for lasso regression\n",
    "y_pred_lasso = lasso_grid.predict(X_test) # generate y prediction\n",
    "mean_squared_error(y_test, y_pred_lasso, squared=False) # calculate RMSE"
   ]
  },
  {
   "cell_type": "markdown",
   "id": "00e243f5-0f84-41a2-a09e-d3d0bfa7cc4a",
   "metadata": {},
   "source": [
    "**ElasticNet Regression**"
   ]
  },
  {
   "cell_type": "code",
   "execution_count": 28,
   "id": "4b9eaa7b-4e41-41d4-9ed1-bb63e91381fb",
   "metadata": {},
   "outputs": [
    {
     "data": {
      "text/plain": [
       "0.8533856231632482"
      ]
     },
     "execution_count": 28,
     "metadata": {},
     "output_type": "execute_result"
    }
   ],
   "source": [
    "# R square score on train data\n",
    "elastic.score(X_train, y_train)"
   ]
  },
  {
   "cell_type": "code",
   "execution_count": 29,
   "id": "96af447c-9d28-4cb8-8cfe-b15f4f89f31a",
   "metadata": {},
   "outputs": [
    {
     "data": {
      "text/plain": [
       "0.8729836991942456"
      ]
     },
     "execution_count": 29,
     "metadata": {},
     "output_type": "execute_result"
    }
   ],
   "source": [
    "# R square score on test data\n",
    "elastic.score(X_test, y_test)"
   ]
  },
  {
   "cell_type": "code",
   "execution_count": 30,
   "id": "031ed6c2-427d-4390-bb72-faaf09b03643",
   "metadata": {},
   "outputs": [
    {
     "data": {
      "text/plain": [
       "28173.759088168445"
      ]
     },
     "execution_count": 30,
     "metadata": {},
     "output_type": "execute_result"
    }
   ],
   "source": [
    "# Show the RMSE for ElasticNet regression\n",
    "y_pred_elastic = elastic.predict(X_test) # generate y prediction\n",
    "mean_squared_error(y_test, y_pred_elastic, squared=False) # calculate RMSE"
   ]
  },
  {
   "cell_type": "markdown",
   "id": "c1dad5a8-ca1e-40cb-b354-57f11335335a",
   "metadata": {},
   "source": [
    "### Chosen Model"
   ]
  },
  {
   "cell_type": "markdown",
   "id": "b015d321-0daf-45c8-b185-5aa1e5303c3f",
   "metadata": {},
   "source": [
    "Model|$R_2$ Train|$R_2$ Test|Root Mean Square Error (RMSE)\n",
    "---|---|---|---\n",
    "Baseline|n.a.|-0.000238|79061.81\n",
    "Linear|-2.4471e+18|-2.2705e+22|3.3994e+14\n",
    "Ridge|0.85299|0.87313|28157.35\n",
    "Lasso|0.85465|0.87186|28297.80\n",
    "ElasticNet|0.85338|0.87298|28173.75"
   ]
  },
  {
   "cell_type": "markdown",
   "id": "df76449a-0860-4dec-8231-52c3c280390c",
   "metadata": {},
   "source": [
    "Based on the metrics tables above, the linear regression model has performed way worse than the baseline model. Their negative $R_2$ scores deemed that they are very underfitted and the difference in $R_2$ scores and RMSE is huge. \n",
    "\n",
    "Among Ridge, Lasso & ElasticNet models, all 3 models do not show signs of underfitting or overfitting. Their $R_2$ scores for both train & test dataframes are close to 1. Their respective $R_2$ train scores are lower than their respective $R_2$ test scores. Hence, all 3 models have a good tradeoff balance between bias and variance. The difference in respective $R_2$ train score & $R_2$ test score is the smallest for both Lasso and ElasticNet models.\n",
    "\n",
    "Looking at RMSE, the Ridge model is the best out of the 3. RMSE represents the approximate average distance squared of the actual value from the predicted value. Thus the lower the RMSE, the lesser likely the model predicts the sale price too far from the actual sale price.\n",
    "\n",
    "Hence, we chose ElasticNet regression model as the most suitable model for predicting house prices. Reasons are stated as per below:\n",
    "\n",
    "1. Second best model in terms of RMSE\n",
    "2. $R_2$ scores are in a good range (within 0.85 to 0.88)\n",
    "3. Difference in $R_2$ score for train dataset vs test dataset is the second smallest amongst the models (0.019)\n",
    "4. $R_2$ score for train dataset is lower than that of test dataset\n",
    "\n",
    "A strength of this ElasticNet regression model is that it combines the characteristics of both lasso & ridge regression and reduces the impact of various features without eliminating them unnecessarily. A weakness of this model is that it takes up a lot of computation power."
   ]
  },
  {
   "cell_type": "code",
   "execution_count": 31,
   "id": "f4598465-55ab-4601-b287-63178613daa6",
   "metadata": {},
   "outputs": [
    {
     "name": "stdout",
     "output_type": "stream",
     "text": [
      "The optimal value for regularization strength in ElasticNet model is 43.10537110544543\n",
      "The optimal scaling of L1 to L2 penalty in ElasticNet model is 1.0\n"
     ]
    }
   ],
   "source": [
    "print(f'The optimal value for regularization strength in ElasticNet model is {elastic.alpha_}')\n",
    "print(f'The optimal scaling of L1 to L2 penalty in ElasticNet model is {elastic.l1_ratio_}')"
   ]
  },
  {
   "cell_type": "code",
   "execution_count": 32,
   "id": "f651de6f-b5d2-42e7-899a-735a2441182a",
   "metadata": {},
   "outputs": [
    {
     "name": "stdout",
     "output_type": "stream",
     "text": [
      "Top 7 features with strong positive influence on sale price\n",
      "neighborhood_GrnHill    106631.766923\n",
      "neighborhood_StoneBr     80611.951747\n",
      "neighborhood_NridgHt     46388.993096\n",
      "property_area            40291.741447\n",
      "neighborhood_NoRidge     38025.659838\n",
      "foundation_Slab          30800.003397\n",
      "overall_score            18112.627275\n",
      "dtype: float64\n",
      "\n",
      "Top 7 features with strong negative influence on sale price\n",
      "neighborhood_Sawyer    -10627.193133\n",
      "neighborhood_NAmes     -11333.435029\n",
      "neighborhood_IDOTRR    -13091.149102\n",
      "neighborhood_Edwards   -16274.008191\n",
      "neighborhood_OldTown   -17423.637943\n",
      "ms_subclass_160        -22705.614447\n",
      "ms_subclass_120        -26693.563105\n",
      "dtype: float64\n"
     ]
    }
   ],
   "source": [
    "# Show the key features that affect the proprty's sale price\n",
    "chosen_model_coefs = pd.Series(elastic.coef_, index=X.columns)\n",
    "\n",
    "# Display out the key features that has strong predictor capabilities\n",
    "print(f'Top 7 features with strong positive influence on sale price')\n",
    "print(chosen_model_coefs.sort_values(ascending=False).head(7))\n",
    "print('')\n",
    "print(f'Top 7 features with strong negative influence on sale price')\n",
    "print(chosen_model_coefs.sort_values(ascending=False).tail(7))"
   ]
  },
  {
   "cell_type": "markdown",
   "id": "d53a75b6-2417-4f82-a8ea-0981d21ccdea",
   "metadata": {},
   "source": [
    "From the chosen model, the key features that have the most signicant effect on sale price are the neighborhood, property area, building class and overall condition/quality of the property.<br> Based on the coefficients, when the property falls under 2-STORY PUD - 1946 & NEWER or 1-STORY PUD (Planned Unit Development) - 1946 & NEWER building class, there is a high likelihood that the property price will be cheap. When the property is located in Green Hills, Stone Brook and Northridge Heights neighborhood, there is a high likelihood that the property price will be expensive."
   ]
  },
  {
   "cell_type": "markdown",
   "id": "8acc4d23-01b0-4bef-837a-e08fd9cdfdfc",
   "metadata": {},
   "source": [
    "## Conclusion & Recommendation"
   ]
  },
  {
   "cell_type": "markdown",
   "id": "a6c4936b-fa9a-41de-b30d-7bafe592ff3d",
   "metadata": {},
   "source": [
    "### Conclusion"
   ]
  },
  {
   "cell_type": "markdown",
   "id": "33fa7632-025d-4145-b429-9f5802622912",
   "metadata": {},
   "source": [
    "**Prediction Model**\n",
    "\n",
    "ElasticNet regression model, where regularization strength value = 43.1 and L1 to L2 penalty = 1.0 (i.e. Lasso penalty), is the most suitable model to use for predicting property prices. This model is able to explain more than 85% of the variability in Sale Price, based on the key features of the property. Reasons are stated as per below:\n",
    "\n",
    "1. Second best model in terms of RMSE\n",
    "2. $R_2$ scores are in a good range (within 0.85 to 0.88)\n",
    "3. Difference in $R_2$ score for train dataset vs test dataset is the second smallest amongst the models (0.019)\n",
    "4. $R_2$ score for train dataset is lower than that of test dataset\n",
    "\n",
    "**Key Features**\n",
    "\n",
    "Relating back to the problem statement, the key features that have the most significant effect on Sale Price are the neighborhood, property area, building class and overall condition and quality of the property.<br> For instance, if the property is located in Green Hills, Stone Brook, Northridge or Northridge Heights neighborhood, it adds more value to the property. To add on, the property area has a positive relationship with the value of the property. Thus, the bigger the property area, the higher the sale price. If the property falls under 2-STORY PUD - 1946 & NEWER or 1-STORY PUD (Planned Unit Development) - 1946 & NEWER building class or located in Old Town, Edwards or Iowa DOT and Rail Road neighborhood, the property sale price would mostly likely be low.\n",
    "\n",
    "**Future Improvements**\n",
    "\n",
    "Further improvements can be done on the prediction model by considering the below variables as predictor features,\n",
    "1. Annual income of the buyer as the wealthier buyers are able to tolerate higher prices\n",
    "2. Macroeconomic factors (i.e. interest rate of home loans)\n",
    "3. Number of years of lease left for leasehold properties\n",
    "4. Crime rate of the neighborhood where the property resides"
   ]
  },
  {
   "cell_type": "markdown",
   "id": "9d94ffcd-1809-43be-94a9-c3fe715735f8",
   "metadata": {
    "tags": []
   },
   "source": [
    "### Recommendation"
   ]
  },
  {
   "cell_type": "markdown",
   "id": "dde472fe-8170-402f-ae48-34fed3b2dc16",
   "metadata": {},
   "source": [
    "We recommend that the client should use our <font color=\"blue\">ElasticNet regression model</font> for predicting property prices in Ames, Iowa. This model can be generalized to other cities, provided that the categorical features are properly encoded into numerical data beforehand.\n",
    "\n",
    "The client should take note of <font color=\"blue\">the neighborhood where the property resides and the building class of the property</font> to gauge its sale price. It is also good to note that <font color=\"blue\">the property area and overall condition/quality of property</font> have strong effect on sale prices.\n",
    "\n",
    "Thus, the client should promote houses located in Green Hills, Stone Brook, Northridge or Northridge Heights neighborhood to high-income buyers. As for low-income buyers, the client can promote houses that fall under 2-STORY PUD - 1946 & NEWER or 1-STORY PUD (Planned Unit Development) - 1946 & NEWER building class."
   ]
  },
  {
   "cell_type": "markdown",
   "id": "601118c8-3e62-4898-ac32-9d6049943d51",
   "metadata": {
    "tags": []
   },
   "source": [
    "### Kaggle Scores"
   ]
  },
  {
   "cell_type": "code",
   "execution_count": 33,
   "id": "0b0d798d-f791-4f90-93ed-677beb860aba",
   "metadata": {},
   "outputs": [],
   "source": [
    "# Generate y variable predictions based on the models (baseline, linear, ridge, lasso, elasticnet)\n",
    "\n",
    "SalePrice_baseline = y_baseline_pred(dfrealtestraw['Id'])\n",
    "SalePrice_linear = lr.predict(X_realtest_trf)\n",
    "SalePrice_ridge = ridge_grid.predict(X_realtest_trf)\n",
    "SalePrice_lasso = lasso_grid.predict(X_realtest_trf)\n",
    "SalePrice_elastic = elastic.predict(X_realtest_trf)"
   ]
  },
  {
   "cell_type": "code",
   "execution_count": 34,
   "id": "db939a69-5285-4441-ac20-9d0b7246ef17",
   "metadata": {},
   "outputs": [],
   "source": [
    "# Create the dataframes to upload into Kaggle for scoring\n",
    "# Baseline\n",
    "dfresult_baseline = pd.DataFrame({\n",
    "    'Id': dfrealtestraw['Id'],\n",
    "    'SalePrice': SalePrice_baseline\n",
    "})\n",
    "\n",
    "# Linear\n",
    "dfresult_linear = pd.DataFrame({\n",
    "    'Id': dfrealtestraw['Id'],\n",
    "    'SalePrice': SalePrice_linear\n",
    "})\n",
    "\n",
    "# Ridge\n",
    "dfresult_ridge = pd.DataFrame({\n",
    "    'Id': dfrealtestraw['Id'],\n",
    "    'SalePrice': SalePrice_ridge\n",
    "})\n",
    "\n",
    "# Lasso\n",
    "dfresult_lasso = pd.DataFrame({\n",
    "    'Id': dfrealtestraw['Id'],\n",
    "    'SalePrice': SalePrice_lasso\n",
    "})\n",
    "\n",
    "# ElasticNet\n",
    "dfresult_elastic = pd.DataFrame({\n",
    "    'Id': dfrealtestraw['Id'],\n",
    "    'SalePrice': SalePrice_elastic\n",
    "})"
   ]
  },
  {
   "cell_type": "code",
   "execution_count": 35,
   "id": "ff070077-7084-4f39-9778-80ffc7dc98c0",
   "metadata": {},
   "outputs": [],
   "source": [
    "# Export the dataframes into csv files\n",
    "\n",
    "dfresult_baseline.to_csv('../output/result_baseline.csv', index=False)\n",
    "dfresult_linear.to_csv('../output/result_linear.csv', index=False)\n",
    "dfresult_ridge.to_csv('../output/result_ridge.csv', index=False)\n",
    "dfresult_lasso.to_csv('../output/result_lasso.csv', index=False)\n",
    "dfresult_elastic.to_csv('../output/result_elastic.csv', index=False)"
   ]
  },
  {
   "cell_type": "markdown",
   "id": "93566451-7fd8-424e-b3e7-d9cdfc3d82d7",
   "metadata": {},
   "source": [
    "Below are the results of our models' prediction in Kaggle.\n",
    "\n",
    "![image info](../image/kaggle_result.jpg)"
   ]
  }
 ],
 "metadata": {
  "kernelspec": {
   "display_name": "Python [conda env:dsi-sg]",
   "language": "python",
   "name": "conda-env-dsi-sg-py"
  },
  "language_info": {
   "codemirror_mode": {
    "name": "ipython",
    "version": 3
   },
   "file_extension": ".py",
   "mimetype": "text/x-python",
   "name": "python",
   "nbconvert_exporter": "python",
   "pygments_lexer": "ipython3",
   "version": "3.8.13"
  }
 },
 "nbformat": 4,
 "nbformat_minor": 5
}
